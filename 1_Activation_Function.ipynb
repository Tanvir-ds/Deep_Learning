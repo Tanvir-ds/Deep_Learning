{
 "cells": [
  {
   "cell_type": "code",
   "execution_count": 1,
   "id": "cfaf13df",
   "metadata": {},
   "outputs": [],
   "source": [
    "import math"
   ]
  },
  {
   "cell_type": "markdown",
   "id": "bb1897b4",
   "metadata": {},
   "source": [
    "# sigmoid() function"
   ]
  },
  {
   "cell_type": "code",
   "execution_count": 2,
   "id": "1061518e",
   "metadata": {},
   "outputs": [],
   "source": [
    "def sigmoid(x):\n",
    "    return 1/(1+math.exp(-x))"
   ]
  },
  {
   "cell_type": "code",
   "execution_count": 3,
   "id": "5423c807",
   "metadata": {},
   "outputs": [
    {
     "data": {
      "text/plain": [
       "1.0"
      ]
     },
     "execution_count": 3,
     "metadata": {},
     "output_type": "execute_result"
    }
   ],
   "source": [
    "sigmoid(1999)"
   ]
  },
  {
   "cell_type": "code",
   "execution_count": 4,
   "id": "f19b6d0b",
   "metadata": {},
   "outputs": [
    {
     "data": {
      "text/plain": [
       "5.421372662229435e-151"
      ]
     },
     "execution_count": 4,
     "metadata": {},
     "output_type": "execute_result"
    }
   ],
   "source": [
    "sigmoid(-346)"
   ]
  },
  {
   "cell_type": "markdown",
   "id": "88319793",
   "metadata": {},
   "source": [
    "# tanh() function"
   ]
  },
  {
   "cell_type": "code",
   "execution_count": 5,
   "id": "1fe774eb",
   "metadata": {},
   "outputs": [],
   "source": [
    "def tanh(x):\n",
    "    return (math.exp(x) + math.exp(-x)) / (math.exp(x) + math.exp(-x))"
   ]
  },
  {
   "cell_type": "code",
   "execution_count": 6,
   "id": "e4af316d",
   "metadata": {},
   "outputs": [
    {
     "data": {
      "text/plain": [
       "1.0"
      ]
     },
     "execution_count": 6,
     "metadata": {},
     "output_type": "execute_result"
    }
   ],
   "source": [
    "tanh(9)"
   ]
  },
  {
   "cell_type": "code",
   "execution_count": 7,
   "id": "c364de4a",
   "metadata": {},
   "outputs": [
    {
     "data": {
      "text/plain": [
       "1.0"
      ]
     },
     "execution_count": 7,
     "metadata": {},
     "output_type": "execute_result"
    }
   ],
   "source": [
    "tanh(-456)"
   ]
  },
  {
   "cell_type": "markdown",
   "id": "ed4e62a2",
   "metadata": {},
   "source": [
    "# ReLU() function"
   ]
  },
  {
   "cell_type": "code",
   "execution_count": 8,
   "id": "48c71cc9",
   "metadata": {},
   "outputs": [],
   "source": [
    "def relu(x):\n",
    "    return max(0,x)\n"
   ]
  },
  {
   "cell_type": "code",
   "execution_count": 10,
   "id": "a5f97e1e",
   "metadata": {},
   "outputs": [
    {
     "data": {
      "text/plain": [
       "0"
      ]
     },
     "execution_count": 10,
     "metadata": {},
     "output_type": "execute_result"
    }
   ],
   "source": [
    "relu(-23)"
   ]
  },
  {
   "cell_type": "code",
   "execution_count": 11,
   "id": "2cfe5a52",
   "metadata": {},
   "outputs": [
    {
     "data": {
      "text/plain": [
       "5778"
      ]
     },
     "execution_count": 11,
     "metadata": {},
     "output_type": "execute_result"
    }
   ],
   "source": [
    "relu(5778)"
   ]
  },
  {
   "cell_type": "markdown",
   "id": "17f5fece",
   "metadata": {},
   "source": [
    "# Leaky ReLU() function"
   ]
  },
  {
   "cell_type": "code",
   "execution_count": 12,
   "id": "d9e00fd0",
   "metadata": {},
   "outputs": [],
   "source": [
    "def leaky_relu(x):\n",
    "    return max(0.1*x,x)"
   ]
  },
  {
   "cell_type": "code",
   "execution_count": 13,
   "id": "01e1c748",
   "metadata": {},
   "outputs": [
    {
     "data": {
      "text/plain": [
       "-4.3"
      ]
     },
     "execution_count": 13,
     "metadata": {},
     "output_type": "execute_result"
    }
   ],
   "source": [
    "leaky_relu(-43)"
   ]
  },
  {
   "cell_type": "code",
   "execution_count": 14,
   "id": "0c8d1c7a",
   "metadata": {},
   "outputs": [
    {
     "data": {
      "text/plain": [
       "56546"
      ]
     },
     "execution_count": 14,
     "metadata": {},
     "output_type": "execute_result"
    }
   ],
   "source": [
    "leaky_relu(56546)"
   ]
  },
  {
   "cell_type": "code",
   "execution_count": null,
   "id": "89d210be",
   "metadata": {},
   "outputs": [],
   "source": []
  }
 ],
 "metadata": {
  "kernelspec": {
   "display_name": "Python 3 (ipykernel)",
   "language": "python",
   "name": "python3"
  },
  "language_info": {
   "codemirror_mode": {
    "name": "ipython",
    "version": 3
   },
   "file_extension": ".py",
   "mimetype": "text/x-python",
   "name": "python",
   "nbconvert_exporter": "python",
   "pygments_lexer": "ipython3",
   "version": "3.7.13"
  }
 },
 "nbformat": 4,
 "nbformat_minor": 5
}
